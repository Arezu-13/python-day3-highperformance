{
 "cells": [
  {
   "cell_type": "code",
   "execution_count": 1,
   "id": "da9c71c4-aed5-4140-bd95-81caa7dc3655",
   "metadata": {},
   "outputs": [
    {
     "name": "stdout",
     "output_type": "stream",
     "text": [
      "Requirement already satisfied: line__profiler in c:\\users\\arezu\\appdata\\roaming\\python\\python312\\site-packages (4.2.0)Note: you may need to restart the kernel to use updated packages.\n",
      "\n"
     ]
    }
   ],
   "source": [
    "pip install --user line__profiler"
   ]
  },
  {
   "cell_type": "code",
   "execution_count": 3,
   "id": "081d63f5-bdd9-4293-b172-1fb5afdfc8bb",
   "metadata": {},
   "outputs": [],
   "source": [
    "#Load the line_profiler Extension in Jupyter. This enables the %lprun magic command.\n",
    "%load_ext line_profiler "
   ]
  },
  {
   "cell_type": "code",
   "execution_count": 7,
   "id": "f4be6f28-797f-492a-bd60-4805b5eedf62",
   "metadata": {},
   "outputs": [],
   "source": [
    "import numpy as np"
   ]
  },
  {
   "cell_type": "code",
   "execution_count": null,
   "id": "79c5c091-aa60-48f2-bc77-a63f6fcc73c5",
   "metadata": {},
   "outputs": [],
   "source": [
    "N = 250\n",
    "def Xnumpy():\n",
    "    X = np.random.randint(0, 100, size=(N, N))"
   ]
  },
  {
   "cell_type": "code",
   "execution_count": 89,
   "id": "e920841b-620c-4c5a-bfd4-a4de06c02689",
   "metadata": {},
   "outputs": [
    {
     "data": {
      "text/plain": [
       "Timer unit: 1e-07 s\n",
       "\n",
       "Total time: 0.0006633 s\n",
       "File: C:\\Users\\arezu\\AppData\\Local\\Temp\\ipykernel_5860\\3989627619.py\n",
       "Function: Xnumpy at line 1\n",
       "\n",
       "Line #      Hits         Time  Per Hit   % Time  Line Contents\n",
       "==============================================================\n",
       "     1                                           def Xnumpy():\n",
       "     2         1       6633.0   6633.0    100.0      X = np.random.randint(0, 100, size=(N, N))"
      ]
     },
     "metadata": {},
     "output_type": "display_data"
    }
   ],
   "source": [
    "%lprun -f Xnumpy Xnumpy()"
   ]
  },
  {
   "cell_type": "code",
   "execution_count": 91,
   "id": "969fd1db-04e8-4d1f-933f-92613efb02e2",
   "metadata": {},
   "outputs": [],
   "source": [
    "def Ynumpy():\n",
    "    X = np.random.randint(0, 100, size=(N, N+1))"
   ]
  },
  {
   "cell_type": "code",
   "execution_count": 93,
   "id": "8623b253-9c42-47e6-a177-9dd1e1be9f48",
   "metadata": {},
   "outputs": [
    {
     "data": {
      "text/plain": [
       "Timer unit: 1e-07 s\n",
       "\n",
       "Total time: 0.0006689 s\n",
       "File: C:\\Users\\arezu\\AppData\\Local\\Temp\\ipykernel_5860\\1518057439.py\n",
       "Function: Ynumpy at line 1\n",
       "\n",
       "Line #      Hits         Time  Per Hit   % Time  Line Contents\n",
       "==============================================================\n",
       "     1                                           def Ynumpy():\n",
       "     2         1       6689.0   6689.0    100.0      X = np.random.randint(0, 100, size=(N, N+1))"
      ]
     },
     "metadata": {},
     "output_type": "display_data"
    }
   ],
   "source": [
    "%lprun -f Ynumpy Ynumpy()"
   ]
  },
  {
   "cell_type": "code",
   "execution_count": 139,
   "id": "3bea7cd2-d38e-4bc9-908f-c4d4b231d6cb",
   "metadata": {},
   "outputs": [
    {
     "name": "stdout",
     "output_type": "stream",
     "text": [
      "[[647001 585626 564889 ... 612237 612007 642970]\n",
      " [701692 656536 632882 ... 666722 654643 684830]\n",
      " [643753 591776 578280 ... 652127 632516 659362]\n",
      " ...\n",
      " [625013 577384 604947 ... 597747 598131 630452]\n",
      " [665919 625548 592539 ... 625955 633376 673617]\n",
      " [679993 657907 617945 ... 639313 635599 659554]]\n"
     ]
    }
   ],
   "source": [
    "def my_matmult():\n",
    "    return np.linalg.matmul(X, Y)\n",
    "print(my_matmult())"
   ]
  },
  {
   "cell_type": "code",
   "execution_count": 135,
   "id": "29ef9ae5-128c-49ac-a24e-29a1aceb6c8c",
   "metadata": {},
   "outputs": [
    {
     "data": {
      "text/plain": [
       "Timer unit: 1e-07 s\n",
       "\n",
       "Total time: 0.01524 s\n",
       "File: C:\\Users\\arezu\\AppData\\Local\\Temp\\ipykernel_5860\\3337150348.py\n",
       "Function: my_matmult at line 1\n",
       "\n",
       "Line #      Hits         Time  Per Hit   % Time  Line Contents\n",
       "==============================================================\n",
       "     1                                           def my_matmult():\n",
       "     2         1     152400.0 152400.0    100.0      return np.linalg.matmul(X, Y)"
      ]
     },
     "metadata": {},
     "output_type": "display_data"
    }
   ],
   "source": [
    "%lprun -f my_matmult my_matmult()"
   ]
  }
 ],
 "metadata": {
  "kernelspec": {
   "display_name": "Python [conda env:j_env]",
   "language": "python",
   "name": "conda-env-j_env-py"
  },
  "language_info": {
   "codemirror_mode": {
    "name": "ipython",
    "version": 3
   },
   "file_extension": ".py",
   "mimetype": "text/x-python",
   "name": "python",
   "nbconvert_exporter": "python",
   "pygments_lexer": "ipython3",
   "version": "3.12.9"
  }
 },
 "nbformat": 4,
 "nbformat_minor": 5
}
